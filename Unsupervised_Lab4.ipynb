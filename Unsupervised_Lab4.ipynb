{
 "cells": [
  {
   "cell_type": "markdown",
   "id": "83f26a29",
   "metadata": {
    "id": "83f26a29"
   },
   "source": [
    "# Unsupervised Lab Session"
   ]
  },
  {
   "cell_type": "markdown",
   "id": "8ea571d1",
   "metadata": {
    "id": "8ea571d1"
   },
   "source": [
    "## Learning outcomes:\n",
    "- Exploratory data analysis and data preparation for model building.\n",
    "- PCA for dimensionality reduction.\n",
    "- K-means and Agglomerative Clustering"
   ]
  },
  {
   "cell_type": "markdown",
   "id": "fd7f778a",
   "metadata": {
    "id": "fd7f778a"
   },
   "source": [
    "## Problem Statement\n",
    "Based on the given marketing campigan dataset, segment the similar customers into suitable clusters. Analyze the clusters and provide your insights to help the organization promote their business."
   ]
  },
  {
   "cell_type": "markdown",
   "id": "33b58f8f",
   "metadata": {
    "id": "33b58f8f"
   },
   "source": [
    "## Context:\n",
    "- Customer Personality Analysis is a detailed analysis of a company’s ideal customers. It helps a business to better understand its customers and makes it easier for them to modify products according to the specific needs, behaviors and concerns of different types of customers.\n",
    "- Customer personality analysis helps a business to modify its product based on its target customers from different types of customer segments. For example, instead of spending money to market a new product to every customer in the company’s database, a company can analyze which customer segment is most likely to buy the product and then market the product only on that particular segment."
   ]
  },
  {
   "cell_type": "markdown",
   "id": "867166aa",
   "metadata": {
    "id": "867166aa"
   },
   "source": [
    "## About dataset\n",
    "- Source: https://www.kaggle.com/datasets/imakash3011/customer-personality-analysis?datasetId=1546318&sortBy=voteCount\n",
    "\n",
    "### Attribute Information:\n",
    "- ID: Customer's unique identifier\n",
    "- Year_Birth: Customer's birth year\n",
    "- Education: Customer's education level\n",
    "- Marital_Status: Customer's marital status\n",
    "- Income: Customer's yearly household income\n",
    "- Kidhome: Number of children in customer's household\n",
    "- Teenhome: Number of teenagers in customer's household\n",
    "- Dt_Customer: Date of customer's enrollment with the company\n",
    "- Recency: Number of days since customer's last purchase\n",
    "- Complain: 1 if the customer complained in the last 2 years, 0 otherwise\n",
    "- MntWines: Amount spent on wine in last 2 years\n",
    "- MntFruits: Amount spent on fruits in last 2 years\n",
    "- MntMeatProducts: Amount spent on meat in last 2 years\n",
    "- MntFishProducts: Amount spent on fish in last 2 years\n",
    "- MntSweetProducts: Amount spent on sweets in last 2 years\n",
    "- MntGoldProds: Amount spent on gold in last 2 years\n",
    "- NumDealsPurchases: Number of purchases made with a discount\n",
    "- AcceptedCmp1: 1 if customer accepted the offer in the 1st campaign, 0 otherwise\n",
    "- AcceptedCmp2: 1 if customer accepted the offer in the 2nd campaign, 0 otherwise\n",
    "- AcceptedCmp3: 1 if customer accepted the offer in the 3rd campaign, 0 otherwise\n",
    "- AcceptedCmp4: 1 if customer accepted the offer in the 4th campaign, 0 otherwise\n",
    "- AcceptedCmp5: 1 if customer accepted the offer in the 5th campaign, 0 otherwise\n",
    "- Response: 1 if customer accepted the offer in the last campaign, 0 otherwise\n",
    "- NumWebPurchases: Number of purchases made through the company’s website\n",
    "- NumCatalogPurchases: Number of purchases made using a catalogue\n",
    "- NumStorePurchases: Number of purchases made directly in stores\n",
    "- NumWebVisitsMonth: Number of visits to company’s website in the last month"
   ]
  },
  {
   "cell_type": "markdown",
   "id": "5a830406",
   "metadata": {
    "id": "5a830406"
   },
   "source": [
    "### 1. Import required libraries"
   ]
  },
  {
   "cell_type": "code",
   "execution_count": 3,
   "id": "d65c5528",
   "metadata": {
    "id": "d65c5528"
   },
   "outputs": [],
   "source": [
    "import warnings\n",
    "warnings.filterwarnings(\"ignore\")"
   ]
  },
  {
   "cell_type": "code",
   "execution_count": 4,
   "id": "ad02a0b5",
   "metadata": {},
   "outputs": [],
   "source": [
    "import numpy as np\n",
    "import pandas as pd\n",
    "import matplotlib.pyplot as plt\n",
    "import seaborn as sns\n",
    "from sklearn.model_selection import train_test_split\n",
    "from sklearn.metrics import classification_report,confusion_matrix,roc_curve,accuracy_score,auc,roc_auc_score\n",
    "from sklearn.ensemble import RandomForestClassifier\n",
    "from sklearn.preprocessing import StandardScaler,MinMaxScaler\n",
    "from sklearn.discriminant_analysis import LinearDiscriminantAnalysis as LDA\n",
    "from datetime import datetime\n",
    "from sklearn.decomposition import PCA\n",
    "from sklearn.preprocessing import LabelEncoder\n",
    "from sklearn.cluster import AgglomerativeClustering\n",
    "from sklearn.cluster import KMeans"
   ]
  },
  {
   "cell_type": "markdown",
   "id": "c80eb960",
   "metadata": {
    "id": "c80eb960"
   },
   "source": [
    "### 2. Load the CSV file (i.e marketing.csv) and display the first 5 rows of the dataframe. Check the shape and info of the dataset."
   ]
  },
  {
   "cell_type": "code",
   "execution_count": null,
   "id": "40884aa5",
   "metadata": {},
   "outputs": [],
   "source": [
    "df = pd.read_csv('marketing.csv',encoding='unicode_escape')\n",
    "print(df.head())"
   ]
  },
  {
   "cell_type": "code",
   "execution_count": 5,
   "id": "b26853ad",
   "metadata": {},
   "outputs": [
    {
     "name": "stdout",
     "output_type": "stream",
     "text": [
      "Shape of the dataset (2240, 27)\n",
      "******************************\n",
      "<class 'pandas.core.frame.DataFrame'>\n",
      "RangeIndex: 2240 entries, 0 to 2239\n",
      "Data columns (total 27 columns):\n",
      " #   Column               Non-Null Count  Dtype  \n",
      "---  ------               --------------  -----  \n",
      " 0   ID                   2240 non-null   int64  \n",
      " 1   Year_Birth           2240 non-null   int64  \n",
      " 2   Education            2240 non-null   object \n",
      " 3   Marital_Status       2240 non-null   object \n",
      " 4   Income               2216 non-null   float64\n",
      " 5   Kidhome              2240 non-null   int64  \n",
      " 6   Teenhome             2240 non-null   int64  \n",
      " 7   Dt_Customer          2240 non-null   object \n",
      " 8   Recency              2240 non-null   int64  \n",
      " 9   MntWines             2240 non-null   int64  \n",
      " 10  MntFruits            2240 non-null   int64  \n",
      " 11  MntMeatProducts      2240 non-null   int64  \n",
      " 12  MntFishProducts      2240 non-null   int64  \n",
      " 13  MntSweetProducts     2240 non-null   int64  \n",
      " 14  MntGoldProds         2240 non-null   int64  \n",
      " 15  NumDealsPurchases    2240 non-null   int64  \n",
      " 16  NumWebPurchases      2240 non-null   int64  \n",
      " 17  NumCatalogPurchases  2240 non-null   int64  \n",
      " 18  NumStorePurchases    2240 non-null   int64  \n",
      " 19  NumWebVisitsMonth    2240 non-null   int64  \n",
      " 20  AcceptedCmp3         2240 non-null   int64  \n",
      " 21  AcceptedCmp4         2240 non-null   int64  \n",
      " 22  AcceptedCmp5         2240 non-null   int64  \n",
      " 23  AcceptedCmp1         2240 non-null   int64  \n",
      " 24  AcceptedCmp2         2240 non-null   int64  \n",
      " 25  Complain             2240 non-null   int64  \n",
      " 26  Response             2240 non-null   int64  \n",
      "dtypes: float64(1), int64(23), object(3)\n",
      "memory usage: 472.6+ KB\n",
      "None\n"
     ]
    }
   ],
   "source": [
    "def basic_info(df):\n",
    "    '''checking basic information & shape about the dataframe'''\n",
    "    temp=df.copy(deep=True)\n",
    "    print(\"Shape of the dataset\",df.shape)\n",
    "    print(\"*\"*30)\n",
    "    print(df.info())\n",
    "    \n",
    "basic_info(df)"
   ]
  },
  {
   "cell_type": "markdown",
   "id": "9ef75724",
   "metadata": {
    "id": "9ef75724"
   },
   "source": [
    "### 3. Check the percentage of missing values? If there is presence of missing values, treat them accordingly."
   ]
  },
  {
   "cell_type": "code",
   "execution_count": 6,
   "id": "f2c231df",
   "metadata": {
    "id": "f2c231df"
   },
   "outputs": [
    {
     "name": "stdout",
     "output_type": "stream",
     "text": [
      "percentage of missing data of dataframe \n",
      " ID                     0.000000\n",
      "Year_Birth             0.000000\n",
      "Education              0.000000\n",
      "Marital_Status         0.000000\n",
      "Income                 1.071429\n",
      "Kidhome                0.000000\n",
      "Teenhome               0.000000\n",
      "Dt_Customer            0.000000\n",
      "Recency                0.000000\n",
      "MntWines               0.000000\n",
      "MntFruits              0.000000\n",
      "MntMeatProducts        0.000000\n",
      "MntFishProducts        0.000000\n",
      "MntSweetProducts       0.000000\n",
      "MntGoldProds           0.000000\n",
      "NumDealsPurchases      0.000000\n",
      "NumWebPurchases        0.000000\n",
      "NumCatalogPurchases    0.000000\n",
      "NumStorePurchases      0.000000\n",
      "NumWebVisitsMonth      0.000000\n",
      "AcceptedCmp3           0.000000\n",
      "AcceptedCmp4           0.000000\n",
      "AcceptedCmp5           0.000000\n",
      "AcceptedCmp1           0.000000\n",
      "AcceptedCmp2           0.000000\n",
      "Complain               0.000000\n",
      "Response               0.000000\n",
      "dtype: float64\n"
     ]
    }
   ],
   "source": [
    "def check_missing_values(df):\n",
    "    '''Function to check the missing data percentage'''\n",
    "    print(\"percentage of missing data of dataframe \\n\",df.isnull().sum()/len(df)*100)\n",
    "    \n",
    "check_missing_values(df)"
   ]
  },
  {
   "cell_type": "markdown",
   "id": "86f3709e",
   "metadata": {
    "id": "86f3709e"
   },
   "source": [
    "### 4. Check if there are any duplicate records in the dataset? If any drop them."
   ]
  },
  {
   "cell_type": "code",
   "execution_count": 7,
   "id": "2970671a",
   "metadata": {
    "id": "2970671a"
   },
   "outputs": [
    {
     "data": {
      "text/html": [
       "<div>\n",
       "<style scoped>\n",
       "    .dataframe tbody tr th:only-of-type {\n",
       "        vertical-align: middle;\n",
       "    }\n",
       "\n",
       "    .dataframe tbody tr th {\n",
       "        vertical-align: top;\n",
       "    }\n",
       "\n",
       "    .dataframe thead th {\n",
       "        text-align: right;\n",
       "    }\n",
       "</style>\n",
       "<table border=\"1\" class=\"dataframe\">\n",
       "  <thead>\n",
       "    <tr style=\"text-align: right;\">\n",
       "      <th></th>\n",
       "      <th>ID</th>\n",
       "      <th>Year_Birth</th>\n",
       "      <th>Education</th>\n",
       "      <th>Marital_Status</th>\n",
       "      <th>Income</th>\n",
       "      <th>Kidhome</th>\n",
       "      <th>Teenhome</th>\n",
       "      <th>Dt_Customer</th>\n",
       "      <th>Recency</th>\n",
       "      <th>MntWines</th>\n",
       "      <th>...</th>\n",
       "      <th>NumCatalogPurchases</th>\n",
       "      <th>NumStorePurchases</th>\n",
       "      <th>NumWebVisitsMonth</th>\n",
       "      <th>AcceptedCmp3</th>\n",
       "      <th>AcceptedCmp4</th>\n",
       "      <th>AcceptedCmp5</th>\n",
       "      <th>AcceptedCmp1</th>\n",
       "      <th>AcceptedCmp2</th>\n",
       "      <th>Complain</th>\n",
       "      <th>Response</th>\n",
       "    </tr>\n",
       "  </thead>\n",
       "  <tbody>\n",
       "  </tbody>\n",
       "</table>\n",
       "<p>0 rows × 27 columns</p>\n",
       "</div>"
      ],
      "text/plain": [
       "Empty DataFrame\n",
       "Columns: [ID, Year_Birth, Education, Marital_Status, Income, Kidhome, Teenhome, Dt_Customer, Recency, MntWines, MntFruits, MntMeatProducts, MntFishProducts, MntSweetProducts, MntGoldProds, NumDealsPurchases, NumWebPurchases, NumCatalogPurchases, NumStorePurchases, NumWebVisitsMonth, AcceptedCmp3, AcceptedCmp4, AcceptedCmp5, AcceptedCmp1, AcceptedCmp2, Complain, Response]\n",
       "Index: []\n",
       "\n",
       "[0 rows x 27 columns]"
      ]
     },
     "execution_count": 7,
     "metadata": {},
     "output_type": "execute_result"
    }
   ],
   "source": [
    "def check_duplicate(df):\n",
    "    duplicate=df[df.duplicated()]\n",
    "    return duplicate\n",
    "\n",
    "duplicate=check_duplicate(df)\n",
    "duplicate"
   ]
  },
  {
   "cell_type": "markdown",
   "id": "3a6f2b5a",
   "metadata": {
    "id": "3a6f2b5a"
   },
   "source": [
    "### 5. Drop the columns which you think redundant for the analysis "
   ]
  },
  {
   "cell_type": "code",
   "execution_count": 8,
   "id": "a9ca818b",
   "metadata": {
    "id": "a9ca818b"
   },
   "outputs": [
    {
     "name": "stdout",
     "output_type": "stream",
     "text": [
      "Original DataFrame:\n",
      "         ID  Year_Birth   Education Marital_Status   Income  Kidhome  \\\n",
      "0      5524        1957  Graduation         Single  58138.0        0   \n",
      "1      2174        1954  Graduation         Single  46344.0        1   \n",
      "2      4141        1965  Graduation       Together  71613.0        0   \n",
      "3      6182        1984  Graduation       Together  26646.0        1   \n",
      "4      5324        1981         PhD        Married  58293.0        1   \n",
      "...     ...         ...         ...            ...      ...      ...   \n",
      "2235  10870        1967  Graduation        Married  61223.0        0   \n",
      "2236   4001        1946         PhD       Together  64014.0        2   \n",
      "2237   7270        1981  Graduation       Divorced  56981.0        0   \n",
      "2238   8235        1956      Master       Together  69245.0        0   \n",
      "2239   9405        1954         PhD        Married  52869.0        1   \n",
      "\n",
      "      Teenhome Dt_Customer  Recency  MntWines  ...  NumCatalogPurchases  \\\n",
      "0            0    4/9/2012       58       635  ...                   10   \n",
      "1            1    8/3/2014       38        11  ...                    1   \n",
      "2            0  21-08-2013       26       426  ...                    2   \n",
      "3            0   10/2/2014       26        11  ...                    0   \n",
      "4            0  19-01-2014       94       173  ...                    3   \n",
      "...        ...         ...      ...       ...  ...                  ...   \n",
      "2235         1  13-06-2013       46       709  ...                    3   \n",
      "2236         1   10/6/2014       56       406  ...                    2   \n",
      "2237         0  25-01-2014       91       908  ...                    3   \n",
      "2238         1  24-01-2014        8       428  ...                    5   \n",
      "2239         1  15-10-2012       40        84  ...                    1   \n",
      "\n",
      "      NumStorePurchases  NumWebVisitsMonth  AcceptedCmp3  AcceptedCmp4  \\\n",
      "0                     4                  7             0             0   \n",
      "1                     2                  5             0             0   \n",
      "2                    10                  4             0             0   \n",
      "3                     4                  6             0             0   \n",
      "4                     6                  5             0             0   \n",
      "...                 ...                ...           ...           ...   \n",
      "2235                  4                  5             0             0   \n",
      "2236                  5                  7             0             0   \n",
      "2237                 13                  6             0             1   \n",
      "2238                 10                  3             0             0   \n",
      "2239                  4                  7             0             0   \n",
      "\n",
      "      AcceptedCmp5  AcceptedCmp1  AcceptedCmp2  Complain  Response  \n",
      "0                0             0             0         0         1  \n",
      "1                0             0             0         0         0  \n",
      "2                0             0             0         0         0  \n",
      "3                0             0             0         0         0  \n",
      "4                0             0             0         0         0  \n",
      "...            ...           ...           ...       ...       ...  \n",
      "2235             0             0             0         0         0  \n",
      "2236             0             1             0         0         0  \n",
      "2237             0             0             0         0         0  \n",
      "2238             0             0             0         0         0  \n",
      "2239             0             0             0         0         1  \n",
      "\n",
      "[2240 rows x 27 columns]\n"
     ]
    }
   ],
   "source": [
    "''' Display the original DataFrame '''\n",
    "print(\"Original DataFrame:\")\n",
    "print(df)"
   ]
  },
  {
   "cell_type": "code",
   "execution_count": 9,
   "id": "604fd48e",
   "metadata": {},
   "outputs": [
    {
     "name": "stdout",
     "output_type": "stream",
     "text": [
      "\n",
      "DataFrame after dropping redundant columns:\n",
      "      Year_Birth   Education Marital_Status   Income  Kidhome  Teenhome  \\\n",
      "0           1957  Graduation         Single  58138.0        0         0   \n",
      "1           1954  Graduation         Single  46344.0        1         1   \n",
      "2           1965  Graduation       Together  71613.0        0         0   \n",
      "3           1984  Graduation       Together  26646.0        1         0   \n",
      "4           1981         PhD        Married  58293.0        1         0   \n",
      "...          ...         ...            ...      ...      ...       ...   \n",
      "2235        1967  Graduation        Married  61223.0        0         1   \n",
      "2236        1946         PhD       Together  64014.0        2         1   \n",
      "2237        1981  Graduation       Divorced  56981.0        0         0   \n",
      "2238        1956      Master       Together  69245.0        0         1   \n",
      "2239        1954         PhD        Married  52869.0        1         1   \n",
      "\n",
      "      Recency  MntWines  MntFruits  MntMeatProducts  ...  NumCatalogPurchases  \\\n",
      "0          58       635         88              546  ...                   10   \n",
      "1          38        11          1                6  ...                    1   \n",
      "2          26       426         49              127  ...                    2   \n",
      "3          26        11          4               20  ...                    0   \n",
      "4          94       173         43              118  ...                    3   \n",
      "...       ...       ...        ...              ...  ...                  ...   \n",
      "2235       46       709         43              182  ...                    3   \n",
      "2236       56       406          0               30  ...                    2   \n",
      "2237       91       908         48              217  ...                    3   \n",
      "2238        8       428         30              214  ...                    5   \n",
      "2239       40        84          3               61  ...                    1   \n",
      "\n",
      "      NumStorePurchases  NumWebVisitsMonth  AcceptedCmp3  AcceptedCmp4  \\\n",
      "0                     4                  7             0             0   \n",
      "1                     2                  5             0             0   \n",
      "2                    10                  4             0             0   \n",
      "3                     4                  6             0             0   \n",
      "4                     6                  5             0             0   \n",
      "...                 ...                ...           ...           ...   \n",
      "2235                  4                  5             0             0   \n",
      "2236                  5                  7             0             0   \n",
      "2237                 13                  6             0             1   \n",
      "2238                 10                  3             0             0   \n",
      "2239                  4                  7             0             0   \n",
      "\n",
      "      AcceptedCmp5  AcceptedCmp1  AcceptedCmp2  Complain  Response  \n",
      "0                0             0             0         0         1  \n",
      "1                0             0             0         0         0  \n",
      "2                0             0             0         0         0  \n",
      "3                0             0             0         0         0  \n",
      "4                0             0             0         0         0  \n",
      "...            ...           ...           ...       ...       ...  \n",
      "2235             0             0             0         0         0  \n",
      "2236             0             1             0         0         0  \n",
      "2237             0             0             0         0         0  \n",
      "2238             0             0             0         0         0  \n",
      "2239             0             0             0         0         1  \n",
      "\n",
      "[2240 rows x 25 columns]\n"
     ]
    }
   ],
   "source": [
    "''' List the column names that you consider redundant '''\n",
    "redundant_columns = ['ID', 'Dt_Customer']\n",
    "\n",
    "''' Drop the redundant columns'''\n",
    "df = df.drop(redundant_columns, axis=1)\n",
    "\n",
    "'''Display the updated DataFrame '''\n",
    "print(\"\\nDataFrame after dropping redundant columns:\")\n",
    "print(df)"
   ]
  },
  {
   "cell_type": "markdown",
   "id": "4ff0a112",
   "metadata": {
    "id": "4ff0a112"
   },
   "source": [
    "### 6. Check the unique categories in the column 'Marital_Status'\n",
    "- i) Group categories 'Married', 'Together' as 'relationship'\n",
    "- ii) Group categories 'Divorced', 'Widow', 'Alone', 'YOLO', and 'Absurd' as 'Single'."
   ]
  },
  {
   "cell_type": "code",
   "execution_count": 10,
   "id": "eb1be519",
   "metadata": {
    "id": "eb1be519"
   },
   "outputs": [
    {
     "name": "stdout",
     "output_type": "stream",
     "text": [
      "Original DataFrame:\n",
      "      Year_Birth   Education Marital_Status   Income  Kidhome  Teenhome  \\\n",
      "0           1957  Graduation         Single  58138.0        0         0   \n",
      "1           1954  Graduation         Single  46344.0        1         1   \n",
      "2           1965  Graduation       Together  71613.0        0         0   \n",
      "3           1984  Graduation       Together  26646.0        1         0   \n",
      "4           1981         PhD        Married  58293.0        1         0   \n",
      "...          ...         ...            ...      ...      ...       ...   \n",
      "2235        1967  Graduation        Married  61223.0        0         1   \n",
      "2236        1946         PhD       Together  64014.0        2         1   \n",
      "2237        1981  Graduation       Divorced  56981.0        0         0   \n",
      "2238        1956      Master       Together  69245.0        0         1   \n",
      "2239        1954         PhD        Married  52869.0        1         1   \n",
      "\n",
      "      Recency  MntWines  MntFruits  MntMeatProducts  ...  NumCatalogPurchases  \\\n",
      "0          58       635         88              546  ...                   10   \n",
      "1          38        11          1                6  ...                    1   \n",
      "2          26       426         49              127  ...                    2   \n",
      "3          26        11          4               20  ...                    0   \n",
      "4          94       173         43              118  ...                    3   \n",
      "...       ...       ...        ...              ...  ...                  ...   \n",
      "2235       46       709         43              182  ...                    3   \n",
      "2236       56       406          0               30  ...                    2   \n",
      "2237       91       908         48              217  ...                    3   \n",
      "2238        8       428         30              214  ...                    5   \n",
      "2239       40        84          3               61  ...                    1   \n",
      "\n",
      "      NumStorePurchases  NumWebVisitsMonth  AcceptedCmp3  AcceptedCmp4  \\\n",
      "0                     4                  7             0             0   \n",
      "1                     2                  5             0             0   \n",
      "2                    10                  4             0             0   \n",
      "3                     4                  6             0             0   \n",
      "4                     6                  5             0             0   \n",
      "...                 ...                ...           ...           ...   \n",
      "2235                  4                  5             0             0   \n",
      "2236                  5                  7             0             0   \n",
      "2237                 13                  6             0             1   \n",
      "2238                 10                  3             0             0   \n",
      "2239                  4                  7             0             0   \n",
      "\n",
      "      AcceptedCmp5  AcceptedCmp1  AcceptedCmp2  Complain  Response  \n",
      "0                0             0             0         0         1  \n",
      "1                0             0             0         0         0  \n",
      "2                0             0             0         0         0  \n",
      "3                0             0             0         0         0  \n",
      "4                0             0             0         0         0  \n",
      "...            ...           ...           ...       ...       ...  \n",
      "2235             0             0             0         0         0  \n",
      "2236             0             1             0         0         0  \n",
      "2237             0             0             0         0         0  \n",
      "2238             0             0             0         0         0  \n",
      "2239             0             0             0         0         1  \n",
      "\n",
      "[2240 rows x 25 columns]\n",
      "\n",
      "DataFrame after grouping categories:\n",
      "      Year_Birth   Education Marital_Status   Income  Kidhome  Teenhome  \\\n",
      "0           1957  Graduation         Single  58138.0        0         0   \n",
      "1           1954  Graduation         Single  46344.0        1         1   \n",
      "2           1965  Graduation   relationship  71613.0        0         0   \n",
      "3           1984  Graduation   relationship  26646.0        1         0   \n",
      "4           1981         PhD   relationship  58293.0        1         0   \n",
      "...          ...         ...            ...      ...      ...       ...   \n",
      "2235        1967  Graduation   relationship  61223.0        0         1   \n",
      "2236        1946         PhD   relationship  64014.0        2         1   \n",
      "2237        1981  Graduation       Divorced  56981.0        0         0   \n",
      "2238        1956      Master   relationship  69245.0        0         1   \n",
      "2239        1954         PhD   relationship  52869.0        1         1   \n",
      "\n",
      "      Recency  MntWines  MntFruits  MntMeatProducts  ...  NumCatalogPurchases  \\\n",
      "0          58       635         88              546  ...                   10   \n",
      "1          38        11          1                6  ...                    1   \n",
      "2          26       426         49              127  ...                    2   \n",
      "3          26        11          4               20  ...                    0   \n",
      "4          94       173         43              118  ...                    3   \n",
      "...       ...       ...        ...              ...  ...                  ...   \n",
      "2235       46       709         43              182  ...                    3   \n",
      "2236       56       406          0               30  ...                    2   \n",
      "2237       91       908         48              217  ...                    3   \n",
      "2238        8       428         30              214  ...                    5   \n",
      "2239       40        84          3               61  ...                    1   \n",
      "\n",
      "      NumStorePurchases  NumWebVisitsMonth  AcceptedCmp3  AcceptedCmp4  \\\n",
      "0                     4                  7             0             0   \n",
      "1                     2                  5             0             0   \n",
      "2                    10                  4             0             0   \n",
      "3                     4                  6             0             0   \n",
      "4                     6                  5             0             0   \n",
      "...                 ...                ...           ...           ...   \n",
      "2235                  4                  5             0             0   \n",
      "2236                  5                  7             0             0   \n",
      "2237                 13                  6             0             1   \n",
      "2238                 10                  3             0             0   \n",
      "2239                  4                  7             0             0   \n",
      "\n",
      "      AcceptedCmp5  AcceptedCmp1  AcceptedCmp2  Complain  Response  \n",
      "0                0             0             0         0         1  \n",
      "1                0             0             0         0         0  \n",
      "2                0             0             0         0         0  \n",
      "3                0             0             0         0         0  \n",
      "4                0             0             0         0         0  \n",
      "...            ...           ...           ...       ...       ...  \n",
      "2235             0             0             0         0         0  \n",
      "2236             0             1             0         0         0  \n",
      "2237             0             0             0         0         0  \n",
      "2238             0             0             0         0         0  \n",
      "2239             0             0             0         0         1  \n",
      "\n",
      "[2240 rows x 25 columns]\n"
     ]
    }
   ],
   "source": [
    "''' i) Group categories 'Married', 'Together' as 'relationship'  '''\n",
    "''' Display the original DataFrame '''\n",
    "print(\"Original DataFrame:\")\n",
    "print(df)\n",
    "\n",
    "# Define the mapping to group categories\n",
    "category_mapping = {\n",
    "    'Married': 'relationship',\n",
    "    'Together': 'relationship',\n",
    "}\n",
    "\n",
    "# Group the categories using the mapping\n",
    "df['Marital_Status'] = df['Marital_Status'].replace(category_mapping)\n",
    "\n",
    "# Display the updated DataFrame\n",
    "print(\"\\nDataFrame after grouping categories:\")\n",
    "print(df)"
   ]
  },
  {
   "cell_type": "code",
   "execution_count": 11,
   "id": "cc64cdba",
   "metadata": {},
   "outputs": [
    {
     "name": "stdout",
     "output_type": "stream",
     "text": [
      "Original DataFrame:\n",
      "      Year_Birth   Education Marital_Status   Income  Kidhome  Teenhome  \\\n",
      "0           1957  Graduation         Single  58138.0        0         0   \n",
      "1           1954  Graduation         Single  46344.0        1         1   \n",
      "2           1965  Graduation   relationship  71613.0        0         0   \n",
      "3           1984  Graduation   relationship  26646.0        1         0   \n",
      "4           1981         PhD   relationship  58293.0        1         0   \n",
      "...          ...         ...            ...      ...      ...       ...   \n",
      "2235        1967  Graduation   relationship  61223.0        0         1   \n",
      "2236        1946         PhD   relationship  64014.0        2         1   \n",
      "2237        1981  Graduation       Divorced  56981.0        0         0   \n",
      "2238        1956      Master   relationship  69245.0        0         1   \n",
      "2239        1954         PhD   relationship  52869.0        1         1   \n",
      "\n",
      "      Recency  MntWines  MntFruits  MntMeatProducts  ...  NumCatalogPurchases  \\\n",
      "0          58       635         88              546  ...                   10   \n",
      "1          38        11          1                6  ...                    1   \n",
      "2          26       426         49              127  ...                    2   \n",
      "3          26        11          4               20  ...                    0   \n",
      "4          94       173         43              118  ...                    3   \n",
      "...       ...       ...        ...              ...  ...                  ...   \n",
      "2235       46       709         43              182  ...                    3   \n",
      "2236       56       406          0               30  ...                    2   \n",
      "2237       91       908         48              217  ...                    3   \n",
      "2238        8       428         30              214  ...                    5   \n",
      "2239       40        84          3               61  ...                    1   \n",
      "\n",
      "      NumStorePurchases  NumWebVisitsMonth  AcceptedCmp3  AcceptedCmp4  \\\n",
      "0                     4                  7             0             0   \n",
      "1                     2                  5             0             0   \n",
      "2                    10                  4             0             0   \n",
      "3                     4                  6             0             0   \n",
      "4                     6                  5             0             0   \n",
      "...                 ...                ...           ...           ...   \n",
      "2235                  4                  5             0             0   \n",
      "2236                  5                  7             0             0   \n",
      "2237                 13                  6             0             1   \n",
      "2238                 10                  3             0             0   \n",
      "2239                  4                  7             0             0   \n",
      "\n",
      "      AcceptedCmp5  AcceptedCmp1  AcceptedCmp2  Complain  Response  \n",
      "0                0             0             0         0         1  \n",
      "1                0             0             0         0         0  \n",
      "2                0             0             0         0         0  \n",
      "3                0             0             0         0         0  \n",
      "4                0             0             0         0         0  \n",
      "...            ...           ...           ...       ...       ...  \n",
      "2235             0             0             0         0         0  \n",
      "2236             0             1             0         0         0  \n",
      "2237             0             0             0         0         0  \n",
      "2238             0             0             0         0         0  \n",
      "2239             0             0             0         0         1  \n",
      "\n",
      "[2240 rows x 25 columns]\n",
      "\n",
      "DataFrame after grouping categories:\n",
      "      Year_Birth   Education Marital_Status   Income  Kidhome  Teenhome  \\\n",
      "0           1957  Graduation         Single  58138.0        0         0   \n",
      "1           1954  Graduation         Single  46344.0        1         1   \n",
      "2           1965  Graduation   relationship  71613.0        0         0   \n",
      "3           1984  Graduation   relationship  26646.0        1         0   \n",
      "4           1981         PhD   relationship  58293.0        1         0   \n",
      "...          ...         ...            ...      ...      ...       ...   \n",
      "2235        1967  Graduation   relationship  61223.0        0         1   \n",
      "2236        1946         PhD   relationship  64014.0        2         1   \n",
      "2237        1981  Graduation         Single  56981.0        0         0   \n",
      "2238        1956      Master   relationship  69245.0        0         1   \n",
      "2239        1954         PhD   relationship  52869.0        1         1   \n",
      "\n",
      "      Recency  MntWines  MntFruits  MntMeatProducts  ...  NumCatalogPurchases  \\\n",
      "0          58       635         88              546  ...                   10   \n",
      "1          38        11          1                6  ...                    1   \n",
      "2          26       426         49              127  ...                    2   \n",
      "3          26        11          4               20  ...                    0   \n",
      "4          94       173         43              118  ...                    3   \n",
      "...       ...       ...        ...              ...  ...                  ...   \n",
      "2235       46       709         43              182  ...                    3   \n",
      "2236       56       406          0               30  ...                    2   \n",
      "2237       91       908         48              217  ...                    3   \n",
      "2238        8       428         30              214  ...                    5   \n",
      "2239       40        84          3               61  ...                    1   \n",
      "\n",
      "      NumStorePurchases  NumWebVisitsMonth  AcceptedCmp3  AcceptedCmp4  \\\n",
      "0                     4                  7             0             0   \n",
      "1                     2                  5             0             0   \n",
      "2                    10                  4             0             0   \n",
      "3                     4                  6             0             0   \n",
      "4                     6                  5             0             0   \n",
      "...                 ...                ...           ...           ...   \n",
      "2235                  4                  5             0             0   \n",
      "2236                  5                  7             0             0   \n",
      "2237                 13                  6             0             1   \n",
      "2238                 10                  3             0             0   \n",
      "2239                  4                  7             0             0   \n",
      "\n",
      "      AcceptedCmp5  AcceptedCmp1  AcceptedCmp2  Complain  Response  \n",
      "0                0             0             0         0         1  \n",
      "1                0             0             0         0         0  \n",
      "2                0             0             0         0         0  \n",
      "3                0             0             0         0         0  \n",
      "4                0             0             0         0         0  \n",
      "...            ...           ...           ...       ...       ...  \n",
      "2235             0             0             0         0         0  \n",
      "2236             0             1             0         0         0  \n",
      "2237             0             0             0         0         0  \n",
      "2238             0             0             0         0         0  \n",
      "2239             0             0             0         0         1  \n",
      "\n",
      "[2240 rows x 25 columns]\n"
     ]
    }
   ],
   "source": [
    "#ii) Group categories 'Divorced', 'Widow', 'Alone', 'YOLO', and 'Absurd' as 'Single'\n",
    "''' Display the original DataFrame '''\n",
    "print(\"Original DataFrame:\")\n",
    "print(df)\n",
    "\n",
    "# Define the mapping to group categories\n",
    "category_mapping = {\n",
    "    'Divorced': 'Single',\n",
    "    'Widow': 'Single',\n",
    "    'Alone': 'Single',\n",
    "    'YOLO': 'Single',\n",
    "    \n",
    "}\n",
    "\n",
    "# Group the categories using the mapping\n",
    "df['Marital_Status'] = df['Marital_Status'].replace(category_mapping)\n",
    "\n",
    "# Display the updated DataFrame\n",
    "print(\"\\nDataFrame after grouping categories:\")\n",
    "print(df)\n"
   ]
  },
  {
   "cell_type": "markdown",
   "id": "9566bfbe",
   "metadata": {
    "id": "9566bfbe"
   },
   "source": [
    "### 7. Group the columns 'MntWines', 'MntFruits', 'MntMeatProducts', 'MntFishProducts', 'MntSweetProducts', and 'MntGoldProds' as 'Total_Expenses'"
   ]
  },
  {
   "cell_type": "code",
   "execution_count": 12,
   "id": "3c3fa800",
   "metadata": {
    "id": "3c3fa800"
   },
   "outputs": [
    {
     "name": "stdout",
     "output_type": "stream",
     "text": [
      "      Year_Birth   Education Marital_Status   Income  Kidhome  Teenhome  \\\n",
      "0           1957  Graduation         Single  58138.0        0         0   \n",
      "1           1954  Graduation         Single  46344.0        1         1   \n",
      "2           1965  Graduation   relationship  71613.0        0         0   \n",
      "3           1984  Graduation   relationship  26646.0        1         0   \n",
      "4           1981         PhD   relationship  58293.0        1         0   \n",
      "...          ...         ...            ...      ...      ...       ...   \n",
      "2235        1967  Graduation   relationship  61223.0        0         1   \n",
      "2236        1946         PhD   relationship  64014.0        2         1   \n",
      "2237        1981  Graduation         Single  56981.0        0         0   \n",
      "2238        1956      Master   relationship  69245.0        0         1   \n",
      "2239        1954         PhD   relationship  52869.0        1         1   \n",
      "\n",
      "      Recency  MntWines  MntFruits  MntMeatProducts  ...  NumStorePurchases  \\\n",
      "0          58       635         88              546  ...                  4   \n",
      "1          38        11          1                6  ...                  2   \n",
      "2          26       426         49              127  ...                 10   \n",
      "3          26        11          4               20  ...                  4   \n",
      "4          94       173         43              118  ...                  6   \n",
      "...       ...       ...        ...              ...  ...                ...   \n",
      "2235       46       709         43              182  ...                  4   \n",
      "2236       56       406          0               30  ...                  5   \n",
      "2237       91       908         48              217  ...                 13   \n",
      "2238        8       428         30              214  ...                 10   \n",
      "2239       40        84          3               61  ...                  4   \n",
      "\n",
      "      NumWebVisitsMonth  AcceptedCmp3  AcceptedCmp4  AcceptedCmp5  \\\n",
      "0                     7             0             0             0   \n",
      "1                     5             0             0             0   \n",
      "2                     4             0             0             0   \n",
      "3                     6             0             0             0   \n",
      "4                     5             0             0             0   \n",
      "...                 ...           ...           ...           ...   \n",
      "2235                  5             0             0             0   \n",
      "2236                  7             0             0             0   \n",
      "2237                  6             0             1             0   \n",
      "2238                  3             0             0             0   \n",
      "2239                  7             0             0             0   \n",
      "\n",
      "      AcceptedCmp1  AcceptedCmp2  Complain  Response  Total_Expenses  \n",
      "0                0             0         0         1            1617  \n",
      "1                0             0         0         0              27  \n",
      "2                0             0         0         0             776  \n",
      "3                0             0         0         0              53  \n",
      "4                0             0         0         0             422  \n",
      "...            ...           ...       ...       ...             ...  \n",
      "2235             0             0         0         0            1341  \n",
      "2236             1             0         0         0             444  \n",
      "2237             0             0         0         0            1241  \n",
      "2238             0             0         0         0             843  \n",
      "2239             0             0         0         1             172  \n",
      "\n",
      "[2240 rows x 26 columns]\n"
     ]
    }
   ],
   "source": [
    "# Calculate total expenses by grouping columns\n",
    "df['Total_Expenses'] = df[['MntWines', 'MntFruits', 'MntMeatProducts', 'MntFishProducts',\n",
    "                           'MntSweetProducts', 'MntGoldProds']].sum(axis=1)\n",
    "\n",
    "# Display the updated DataFrame\n",
    "print(df)"
   ]
  },
  {
   "cell_type": "markdown",
   "id": "bf0cd083",
   "metadata": {
    "id": "bf0cd083"
   },
   "source": [
    "### 8. Group the columns 'NumWebPurchases', 'NumCatalogPurchases', 'NumStorePurchases', and 'NumDealsPurchases' as 'Num_Total_Purchases'"
   ]
  },
  {
   "cell_type": "code",
   "execution_count": 13,
   "id": "9c535ede",
   "metadata": {
    "id": "9c535ede"
   },
   "outputs": [
    {
     "name": "stdout",
     "output_type": "stream",
     "text": [
      "      Year_Birth   Education Marital_Status   Income  Kidhome  Teenhome  \\\n",
      "0           1957  Graduation         Single  58138.0        0         0   \n",
      "1           1954  Graduation         Single  46344.0        1         1   \n",
      "2           1965  Graduation   relationship  71613.0        0         0   \n",
      "3           1984  Graduation   relationship  26646.0        1         0   \n",
      "4           1981         PhD   relationship  58293.0        1         0   \n",
      "...          ...         ...            ...      ...      ...       ...   \n",
      "2235        1967  Graduation   relationship  61223.0        0         1   \n",
      "2236        1946         PhD   relationship  64014.0        2         1   \n",
      "2237        1981  Graduation         Single  56981.0        0         0   \n",
      "2238        1956      Master   relationship  69245.0        0         1   \n",
      "2239        1954         PhD   relationship  52869.0        1         1   \n",
      "\n",
      "      Recency  MntWines  MntFruits  MntMeatProducts  ...  NumWebVisitsMonth  \\\n",
      "0          58       635         88              546  ...                  7   \n",
      "1          38        11          1                6  ...                  5   \n",
      "2          26       426         49              127  ...                  4   \n",
      "3          26        11          4               20  ...                  6   \n",
      "4          94       173         43              118  ...                  5   \n",
      "...       ...       ...        ...              ...  ...                ...   \n",
      "2235       46       709         43              182  ...                  5   \n",
      "2236       56       406          0               30  ...                  7   \n",
      "2237       91       908         48              217  ...                  6   \n",
      "2238        8       428         30              214  ...                  3   \n",
      "2239       40        84          3               61  ...                  7   \n",
      "\n",
      "      AcceptedCmp3  AcceptedCmp4  AcceptedCmp5  AcceptedCmp1  AcceptedCmp2  \\\n",
      "0                0             0             0             0             0   \n",
      "1                0             0             0             0             0   \n",
      "2                0             0             0             0             0   \n",
      "3                0             0             0             0             0   \n",
      "4                0             0             0             0             0   \n",
      "...            ...           ...           ...           ...           ...   \n",
      "2235             0             0             0             0             0   \n",
      "2236             0             0             0             1             0   \n",
      "2237             0             1             0             0             0   \n",
      "2238             0             0             0             0             0   \n",
      "2239             0             0             0             0             0   \n",
      "\n",
      "      Complain  Response  Total_Expenses  Num_Total_Purchases  \n",
      "0            0         1            1617                   25  \n",
      "1            0         0              27                    6  \n",
      "2            0         0             776                   21  \n",
      "3            0         0              53                    8  \n",
      "4            0         0             422                   19  \n",
      "...        ...       ...             ...                  ...  \n",
      "2235         0         0            1341                   18  \n",
      "2236         0         0             444                   22  \n",
      "2237         0         0            1241                   19  \n",
      "2238         0         0             843                   23  \n",
      "2239         0         1             172                   11  \n",
      "\n",
      "[2240 rows x 27 columns]\n"
     ]
    }
   ],
   "source": [
    "# Calculate total expenses by grouping columns\n",
    "df['Num_Total_Purchases'] = df[['NumWebPurchases', 'NumCatalogPurchases', 'NumStorePurchases','NumDealsPurchases']].sum(axis=1)\n",
    "\n",
    "# Display the updated DataFrame\n",
    "print(df)"
   ]
  },
  {
   "cell_type": "markdown",
   "id": "52d2dca5",
   "metadata": {
    "id": "52d2dca5"
   },
   "source": [
    "### 9. Group the columns 'Kidhome' and 'Teenhome' as 'Kids'"
   ]
  },
  {
   "cell_type": "code",
   "execution_count": 14,
   "id": "f7c861a1",
   "metadata": {
    "id": "f7c861a1"
   },
   "outputs": [
    {
     "name": "stdout",
     "output_type": "stream",
     "text": [
      "      Year_Birth   Education Marital_Status   Income  Kidhome  Teenhome  \\\n",
      "0           1957  Graduation         Single  58138.0        0         0   \n",
      "1           1954  Graduation         Single  46344.0        1         1   \n",
      "2           1965  Graduation   relationship  71613.0        0         0   \n",
      "3           1984  Graduation   relationship  26646.0        1         0   \n",
      "4           1981         PhD   relationship  58293.0        1         0   \n",
      "...          ...         ...            ...      ...      ...       ...   \n",
      "2235        1967  Graduation   relationship  61223.0        0         1   \n",
      "2236        1946         PhD   relationship  64014.0        2         1   \n",
      "2237        1981  Graduation         Single  56981.0        0         0   \n",
      "2238        1956      Master   relationship  69245.0        0         1   \n",
      "2239        1954         PhD   relationship  52869.0        1         1   \n",
      "\n",
      "      Recency  MntWines  MntFruits  MntMeatProducts  ...  AcceptedCmp3  \\\n",
      "0          58       635         88              546  ...             0   \n",
      "1          38        11          1                6  ...             0   \n",
      "2          26       426         49              127  ...             0   \n",
      "3          26        11          4               20  ...             0   \n",
      "4          94       173         43              118  ...             0   \n",
      "...       ...       ...        ...              ...  ...           ...   \n",
      "2235       46       709         43              182  ...             0   \n",
      "2236       56       406          0               30  ...             0   \n",
      "2237       91       908         48              217  ...             0   \n",
      "2238        8       428         30              214  ...             0   \n",
      "2239       40        84          3               61  ...             0   \n",
      "\n",
      "      AcceptedCmp4  AcceptedCmp5  AcceptedCmp1  AcceptedCmp2  Complain  \\\n",
      "0                0             0             0             0         0   \n",
      "1                0             0             0             0         0   \n",
      "2                0             0             0             0         0   \n",
      "3                0             0             0             0         0   \n",
      "4                0             0             0             0         0   \n",
      "...            ...           ...           ...           ...       ...   \n",
      "2235             0             0             0             0         0   \n",
      "2236             0             0             1             0         0   \n",
      "2237             1             0             0             0         0   \n",
      "2238             0             0             0             0         0   \n",
      "2239             0             0             0             0         0   \n",
      "\n",
      "      Response  Total_Expenses  Num_Total_Purchases  Kids  \n",
      "0            1            1617                   25     0  \n",
      "1            0              27                    6     2  \n",
      "2            0             776                   21     0  \n",
      "3            0              53                    8     1  \n",
      "4            0             422                   19     1  \n",
      "...        ...             ...                  ...   ...  \n",
      "2235         0            1341                   18     1  \n",
      "2236         0             444                   22     3  \n",
      "2237         0            1241                   19     0  \n",
      "2238         0             843                   23     1  \n",
      "2239         1             172                   11     2  \n",
      "\n",
      "[2240 rows x 28 columns]\n"
     ]
    }
   ],
   "source": [
    "# Calculate total expenses by grouping columns\n",
    "df['Kids'] = df[['Kidhome', 'Teenhome']].sum(axis=1)\n",
    "\n",
    "# Display the updated DataFrame\n",
    "print(df)"
   ]
  },
  {
   "cell_type": "markdown",
   "id": "36f67474",
   "metadata": {
    "id": "36f67474"
   },
   "source": [
    "### 10. Group columns 'AcceptedCmp1 , 2 , 3 , 4, 5' and 'Response' as 'TotalAcceptedCmp'"
   ]
  },
  {
   "cell_type": "code",
   "execution_count": 15,
   "id": "ecc9109f",
   "metadata": {
    "id": "ecc9109f"
   },
   "outputs": [
    {
     "name": "stdout",
     "output_type": "stream",
     "text": [
      "      Year_Birth   Education Marital_Status   Income  Kidhome  Teenhome  \\\n",
      "0           1957  Graduation         Single  58138.0        0         0   \n",
      "1           1954  Graduation         Single  46344.0        1         1   \n",
      "2           1965  Graduation   relationship  71613.0        0         0   \n",
      "3           1984  Graduation   relationship  26646.0        1         0   \n",
      "4           1981         PhD   relationship  58293.0        1         0   \n",
      "...          ...         ...            ...      ...      ...       ...   \n",
      "2235        1967  Graduation   relationship  61223.0        0         1   \n",
      "2236        1946         PhD   relationship  64014.0        2         1   \n",
      "2237        1981  Graduation         Single  56981.0        0         0   \n",
      "2238        1956      Master   relationship  69245.0        0         1   \n",
      "2239        1954         PhD   relationship  52869.0        1         1   \n",
      "\n",
      "      Recency  MntWines  MntFruits  MntMeatProducts  ...  AcceptedCmp4  \\\n",
      "0          58       635         88              546  ...             0   \n",
      "1          38        11          1                6  ...             0   \n",
      "2          26       426         49              127  ...             0   \n",
      "3          26        11          4               20  ...             0   \n",
      "4          94       173         43              118  ...             0   \n",
      "...       ...       ...        ...              ...  ...           ...   \n",
      "2235       46       709         43              182  ...             0   \n",
      "2236       56       406          0               30  ...             0   \n",
      "2237       91       908         48              217  ...             1   \n",
      "2238        8       428         30              214  ...             0   \n",
      "2239       40        84          3               61  ...             0   \n",
      "\n",
      "      AcceptedCmp5  AcceptedCmp1  AcceptedCmp2  Complain  Response  \\\n",
      "0                0             0             0         0         1   \n",
      "1                0             0             0         0         0   \n",
      "2                0             0             0         0         0   \n",
      "3                0             0             0         0         0   \n",
      "4                0             0             0         0         0   \n",
      "...            ...           ...           ...       ...       ...   \n",
      "2235             0             0             0         0         0   \n",
      "2236             0             1             0         0         0   \n",
      "2237             0             0             0         0         0   \n",
      "2238             0             0             0         0         0   \n",
      "2239             0             0             0         0         1   \n",
      "\n",
      "      Total_Expenses  Num_Total_Purchases  Kids  TotalAcceptedCmp  \n",
      "0               1617                   25     0                 1  \n",
      "1                 27                    6     2                 0  \n",
      "2                776                   21     0                 0  \n",
      "3                 53                    8     1                 0  \n",
      "4                422                   19     1                 0  \n",
      "...              ...                  ...   ...               ...  \n",
      "2235            1341                   18     1                 0  \n",
      "2236             444                   22     3                 1  \n",
      "2237            1241                   19     0                 1  \n",
      "2238             843                   23     1                 0  \n",
      "2239             172                   11     2                 1  \n",
      "\n",
      "[2240 rows x 29 columns]\n"
     ]
    }
   ],
   "source": [
    "# Calculate total expenses by grouping columns\n",
    "df['TotalAcceptedCmp'] = df[['AcceptedCmp1', 'AcceptedCmp2', 'AcceptedCmp3','AcceptedCmp4', 'AcceptedCmp5', 'Response' ]].sum(axis=1)\n",
    "\n",
    "# Display the updated DataFrame\n",
    "print(df)"
   ]
  },
  {
   "cell_type": "markdown",
   "id": "886bfb08",
   "metadata": {
    "id": "886bfb08"
   },
   "source": [
    "### 11. Drop those columns which we have used above for obtaining new features"
   ]
  },
  {
   "cell_type": "code",
   "execution_count": 16,
   "id": "e853e663",
   "metadata": {
    "id": "e853e663"
   },
   "outputs": [
    {
     "name": "stdout",
     "output_type": "stream",
     "text": [
      "      Year_Birth   Education Marital_Status   Income  Kidhome  Teenhome  \\\n",
      "0           1957  Graduation         Single  58138.0        0         0   \n",
      "1           1954  Graduation         Single  46344.0        1         1   \n",
      "2           1965  Graduation   relationship  71613.0        0         0   \n",
      "3           1984  Graduation   relationship  26646.0        1         0   \n",
      "4           1981         PhD   relationship  58293.0        1         0   \n",
      "...          ...         ...            ...      ...      ...       ...   \n",
      "2235        1967  Graduation   relationship  61223.0        0         1   \n",
      "2236        1946         PhD   relationship  64014.0        2         1   \n",
      "2237        1981  Graduation         Single  56981.0        0         0   \n",
      "2238        1956      Master   relationship  69245.0        0         1   \n",
      "2239        1954         PhD   relationship  52869.0        1         1   \n",
      "\n",
      "      Recency  MntWines  MntFruits  MntMeatProducts  ...  NumCatalogPurchases  \\\n",
      "0          58       635         88              546  ...                   10   \n",
      "1          38        11          1                6  ...                    1   \n",
      "2          26       426         49              127  ...                    2   \n",
      "3          26        11          4               20  ...                    0   \n",
      "4          94       173         43              118  ...                    3   \n",
      "...       ...       ...        ...              ...  ...                  ...   \n",
      "2235       46       709         43              182  ...                    3   \n",
      "2236       56       406          0               30  ...                    2   \n",
      "2237       91       908         48              217  ...                    3   \n",
      "2238        8       428         30              214  ...                    5   \n",
      "2239       40        84          3               61  ...                    1   \n",
      "\n",
      "      NumStorePurchases  NumWebVisitsMonth  AcceptedCmp3  AcceptedCmp4  \\\n",
      "0                     4                  7             0             0   \n",
      "1                     2                  5             0             0   \n",
      "2                    10                  4             0             0   \n",
      "3                     4                  6             0             0   \n",
      "4                     6                  5             0             0   \n",
      "...                 ...                ...           ...           ...   \n",
      "2235                  4                  5             0             0   \n",
      "2236                  5                  7             0             0   \n",
      "2237                 13                  6             0             1   \n",
      "2238                 10                  3             0             0   \n",
      "2239                  4                  7             0             0   \n",
      "\n",
      "      AcceptedCmp5  AcceptedCmp1  AcceptedCmp2  Complain  Response  \n",
      "0                0             0             0         0         1  \n",
      "1                0             0             0         0         0  \n",
      "2                0             0             0         0         0  \n",
      "3                0             0             0         0         0  \n",
      "4                0             0             0         0         0  \n",
      "...            ...           ...           ...       ...       ...  \n",
      "2235             0             0             0         0         0  \n",
      "2236             0             1             0         0         0  \n",
      "2237             0             0             0         0         0  \n",
      "2238             0             0             0         0         0  \n",
      "2239             0             0             0         0         1  \n",
      "\n",
      "[2240 rows x 25 columns]\n"
     ]
    }
   ],
   "source": [
    "# Drop the individual columns\n",
    "df.drop(['Total_Expenses', 'Num_Total_Purchases', 'Kids', 'TotalAcceptedCmp'], axis=1, inplace=True)\n",
    "\n",
    "# Display the updated DataFrame\n",
    "print(df)"
   ]
  },
  {
   "cell_type": "markdown",
   "id": "4225ced7",
   "metadata": {
    "id": "4225ced7"
   },
   "source": [
    "### 12. Extract 'age' using the column 'Year_Birth' and then drop the column 'Year_birth'"
   ]
  },
  {
   "cell_type": "code",
   "execution_count": 17,
   "id": "d517611e",
   "metadata": {
    "id": "d517611e"
   },
   "outputs": [
    {
     "name": "stdout",
     "output_type": "stream",
     "text": [
      "       Education Marital_Status   Income  Kidhome  Teenhome  Recency  \\\n",
      "0     Graduation         Single  58138.0        0         0       58   \n",
      "1     Graduation         Single  46344.0        1         1       38   \n",
      "2     Graduation   relationship  71613.0        0         0       26   \n",
      "3     Graduation   relationship  26646.0        1         0       26   \n",
      "4            PhD   relationship  58293.0        1         0       94   \n",
      "...          ...            ...      ...      ...       ...      ...   \n",
      "2235  Graduation   relationship  61223.0        0         1       46   \n",
      "2236         PhD   relationship  64014.0        2         1       56   \n",
      "2237  Graduation         Single  56981.0        0         0       91   \n",
      "2238      Master   relationship  69245.0        0         1        8   \n",
      "2239         PhD   relationship  52869.0        1         1       40   \n",
      "\n",
      "      MntWines  MntFruits  MntMeatProducts  MntFishProducts  ...  \\\n",
      "0          635         88              546              172  ...   \n",
      "1           11          1                6                2  ...   \n",
      "2          426         49              127              111  ...   \n",
      "3           11          4               20               10  ...   \n",
      "4          173         43              118               46  ...   \n",
      "...        ...        ...              ...              ...  ...   \n",
      "2235       709         43              182               42  ...   \n",
      "2236       406          0               30                0  ...   \n",
      "2237       908         48              217               32  ...   \n",
      "2238       428         30              214               80  ...   \n",
      "2239        84          3               61                2  ...   \n",
      "\n",
      "      NumStorePurchases  NumWebVisitsMonth  AcceptedCmp3  AcceptedCmp4  \\\n",
      "0                     4                  7             0             0   \n",
      "1                     2                  5             0             0   \n",
      "2                    10                  4             0             0   \n",
      "3                     4                  6             0             0   \n",
      "4                     6                  5             0             0   \n",
      "...                 ...                ...           ...           ...   \n",
      "2235                  4                  5             0             0   \n",
      "2236                  5                  7             0             0   \n",
      "2237                 13                  6             0             1   \n",
      "2238                 10                  3             0             0   \n",
      "2239                  4                  7             0             0   \n",
      "\n",
      "      AcceptedCmp5  AcceptedCmp1  AcceptedCmp2  Complain  Response  Age  \n",
      "0                0             0             0         0         1   66  \n",
      "1                0             0             0         0         0   69  \n",
      "2                0             0             0         0         0   58  \n",
      "3                0             0             0         0         0   39  \n",
      "4                0             0             0         0         0   42  \n",
      "...            ...           ...           ...       ...       ...  ...  \n",
      "2235             0             0             0         0         0   56  \n",
      "2236             0             1             0         0         0   77  \n",
      "2237             0             0             0         0         0   42  \n",
      "2238             0             0             0         0         0   67  \n",
      "2239             0             0             0         0         1   69  \n",
      "\n",
      "[2240 rows x 25 columns]\n"
     ]
    }
   ],
   "source": [
    "current_year = datetime.now().year\n",
    "df['Age'] = current_year - df['Year_Birth']\n",
    "df.drop('Year_Birth', axis=1, inplace=True)\n",
    "print(df)"
   ]
  },
  {
   "cell_type": "markdown",
   "id": "f2d3c92d",
   "metadata": {
    "id": "f2d3c92d"
   },
   "source": [
    "### 13. Encode the categorical variables in the dataset"
   ]
  },
  {
   "cell_type": "code",
   "execution_count": 18,
   "id": "030cfc32",
   "metadata": {
    "id": "030cfc32"
   },
   "outputs": [
    {
     "name": "stdout",
     "output_type": "stream",
     "text": [
      "     Marital_Status   Income  Kidhome  Teenhome  Recency  MntWines  MntFruits  \\\n",
      "0            Single  58138.0        0         0       58       635         88   \n",
      "1            Single  46344.0        1         1       38        11          1   \n",
      "2      relationship  71613.0        0         0       26       426         49   \n",
      "3      relationship  26646.0        1         0       26        11          4   \n",
      "4      relationship  58293.0        1         0       94       173         43   \n",
      "...             ...      ...      ...       ...      ...       ...        ...   \n",
      "2235   relationship  61223.0        0         1       46       709         43   \n",
      "2236   relationship  64014.0        2         1       56       406          0   \n",
      "2237         Single  56981.0        0         0       91       908         48   \n",
      "2238   relationship  69245.0        0         1        8       428         30   \n",
      "2239   relationship  52869.0        1         1       40        84          3   \n",
      "\n",
      "      MntMeatProducts  MntFishProducts  MntSweetProducts  ...  AcceptedCmp1  \\\n",
      "0                 546              172                88  ...             0   \n",
      "1                   6                2                 1  ...             0   \n",
      "2                 127              111                21  ...             0   \n",
      "3                  20               10                 3  ...             0   \n",
      "4                 118               46                27  ...             0   \n",
      "...               ...              ...               ...  ...           ...   \n",
      "2235              182               42               118  ...             0   \n",
      "2236               30                0                 0  ...             1   \n",
      "2237              217               32                12  ...             0   \n",
      "2238              214               80                30  ...             0   \n",
      "2239               61                2                 1  ...             0   \n",
      "\n",
      "      AcceptedCmp2  Complain  Response  Age  2n Cycle  Basic  Graduation  \\\n",
      "0                0         0         1   66     False  False        True   \n",
      "1                0         0         0   69     False  False        True   \n",
      "2                0         0         0   58     False  False        True   \n",
      "3                0         0         0   39     False  False        True   \n",
      "4                0         0         0   42     False  False       False   \n",
      "...            ...       ...       ...  ...       ...    ...         ...   \n",
      "2235             0         0         0   56     False  False        True   \n",
      "2236             0         0         0   77     False  False       False   \n",
      "2237             0         0         0   42     False  False        True   \n",
      "2238             0         0         0   67     False  False       False   \n",
      "2239             0         0         1   69     False  False       False   \n",
      "\n",
      "      Master    PhD  \n",
      "0      False  False  \n",
      "1      False  False  \n",
      "2      False  False  \n",
      "3      False  False  \n",
      "4      False   True  \n",
      "...      ...    ...  \n",
      "2235   False  False  \n",
      "2236   False   True  \n",
      "2237   False  False  \n",
      "2238    True  False  \n",
      "2239   False   True  \n",
      "\n",
      "[2240 rows x 29 columns]\n"
     ]
    }
   ],
   "source": [
    "# Perform one-hot encoding\n",
    "encoded_df = pd.get_dummies(df['Education'])\n",
    "\n",
    "# Concatenate encoded columns to the original DataFrame\n",
    "df_encoded = pd.concat([df, encoded_df], axis=1)\n",
    "\n",
    "# Drop the original categorical column\n",
    "df_encoded.drop('Education', axis=1, inplace=True)\n",
    "\n",
    "# Display the updated DataFrame\n",
    "print(df_encoded)"
   ]
  },
  {
   "cell_type": "markdown",
   "id": "9242e36d",
   "metadata": {
    "id": "9242e36d"
   },
   "source": [
    "### 14. Standardize the columns, so that values are in a particular range"
   ]
  },
  {
   "cell_type": "code",
   "execution_count": 19,
   "id": "72475b68",
   "metadata": {
    "id": "72475b68"
   },
   "outputs": [
    {
     "name": "stdout",
     "output_type": "stream",
     "text": [
      "       Education Marital_Status   Income  Kidhome  Teenhome  Recency  \\\n",
      "0     Graduation         Single  58138.0      0.0       0.0       58   \n",
      "1     Graduation         Single  46344.0      0.5       0.5       38   \n",
      "2     Graduation   relationship  71613.0      0.0       0.0       26   \n",
      "3     Graduation   relationship  26646.0      0.5       0.0       26   \n",
      "4            PhD   relationship  58293.0      0.5       0.0       94   \n",
      "...          ...            ...      ...      ...       ...      ...   \n",
      "2235  Graduation   relationship  61223.0      0.0       0.5       46   \n",
      "2236         PhD   relationship  64014.0      1.0       0.5       56   \n",
      "2237  Graduation         Single  56981.0      0.0       0.0       91   \n",
      "2238      Master   relationship  69245.0      0.0       0.5        8   \n",
      "2239         PhD   relationship  52869.0      0.5       0.5       40   \n",
      "\n",
      "      MntWines  MntFruits  MntMeatProducts  MntFishProducts  ...  \\\n",
      "0          635         88              546              172  ...   \n",
      "1           11          1                6                2  ...   \n",
      "2          426         49              127              111  ...   \n",
      "3           11          4               20               10  ...   \n",
      "4          173         43              118               46  ...   \n",
      "...        ...        ...              ...              ...  ...   \n",
      "2235       709         43              182               42  ...   \n",
      "2236       406          0               30                0  ...   \n",
      "2237       908         48              217               32  ...   \n",
      "2238       428         30              214               80  ...   \n",
      "2239        84          3               61                2  ...   \n",
      "\n",
      "      NumStorePurchases  NumWebVisitsMonth  AcceptedCmp3  AcceptedCmp4  \\\n",
      "0                     4                  7             0             0   \n",
      "1                     2                  5             0             0   \n",
      "2                    10                  4             0             0   \n",
      "3                     4                  6             0             0   \n",
      "4                     6                  5             0             0   \n",
      "...                 ...                ...           ...           ...   \n",
      "2235                  4                  5             0             0   \n",
      "2236                  5                  7             0             0   \n",
      "2237                 13                  6             0             1   \n",
      "2238                 10                  3             0             0   \n",
      "2239                  4                  7             0             0   \n",
      "\n",
      "      AcceptedCmp5  AcceptedCmp1  AcceptedCmp2  Complain  Response  Age  \n",
      "0                0             0             0         0         1   66  \n",
      "1                0             0             0         0         0   69  \n",
      "2                0             0             0         0         0   58  \n",
      "3                0             0             0         0         0   39  \n",
      "4                0             0             0         0         0   42  \n",
      "...            ...           ...           ...       ...       ...  ...  \n",
      "2235             0             0             0         0         0   56  \n",
      "2236             0             1             0         0         0   77  \n",
      "2237             0             0             0         0         0   42  \n",
      "2238             0             0             0         0         0   67  \n",
      "2239             0             0             0         0         1   69  \n",
      "\n",
      "[2240 rows x 25 columns]\n"
     ]
    }
   ],
   "source": [
    "# Initialize the MinMaxScaler\n",
    "scaler = MinMaxScaler(feature_range=(0, 1))\n",
    "\n",
    "# Specify the columns to standardize\n",
    "columns_to_scale = ['Kidhome', 'Teenhome']\n",
    "\n",
    "# Standardize the specified columns\n",
    "df[columns_to_scale] = scaler.fit_transform(df[columns_to_scale])\n",
    "\n",
    "# Display the standardized DataFrame\n",
    "print(df)"
   ]
  },
  {
   "cell_type": "markdown",
   "id": "d063d2e2",
   "metadata": {
    "id": "d063d2e2"
   },
   "source": [
    "# 15. Apply PCA on the above dataset and determine the number of PCA components to be used so that 90-95% of the variance in data is explained by the same."
   ]
  },
  {
   "cell_type": "code",
   "execution_count": 26,
   "id": "26017ae9",
   "metadata": {},
   "outputs": [],
   "source": [
    "\n",
    "# Initialize the PCA object\n",
    "pca = PCA()\n",
    "\n",
    "# Fit the PCA model on the data\n",
    "pca.fit(df)\n",
    "\n",
    "# Calculate the cumulative explained variance ratio\n",
    "explained_variance_ratio = np.cumsum(pca.explained_variance_ratio_)\n",
    "\n",
    "# Determine the number of principal components needed\n",
    "num_components = np.argmax(explained_variance_ratio >= 0.9) + 1  # or 0.95 for 95% explained variance\n",
    "\n"
   ]
  },
  {
   "cell_type": "markdown",
   "id": "b2df19d7",
   "metadata": {
    "id": "b2df19d7"
   },
   "source": [
    "### 16. Apply K-means clustering and segment the data (Use PCA transformed data for clustering)"
   ]
  },
  {
   "cell_type": "code",
   "execution_count": 40,
   "id": "a3a8bb4c",
   "metadata": {
    "id": "a3a8bb4c"
   },
   "outputs": [
    {
     "name": "stdout",
     "output_type": "stream",
     "text": [
      "         ID  Year_Birth   Education Marital_Status   Income  Kidhome  \\\n",
      "0      5524        1957  Graduation         Single  58138.0        0   \n",
      "1      2174        1954  Graduation         Single  46344.0        1   \n",
      "2      4141        1965  Graduation       Together  71613.0        0   \n",
      "3      6182        1984  Graduation       Together  26646.0        1   \n",
      "4      5324        1981         PhD        Married  58293.0        1   \n",
      "...     ...         ...         ...            ...      ...      ...   \n",
      "2235  10870        1967  Graduation        Married  61223.0        0   \n",
      "2236   4001        1946         PhD       Together  64014.0        2   \n",
      "2237   7270        1981  Graduation       Divorced  56981.0        0   \n",
      "2238   8235        1956      Master       Together  69245.0        0   \n",
      "2239   9405        1954         PhD        Married  52869.0        1   \n",
      "\n",
      "      Teenhome Dt_Customer  Recency  MntWines  ...  NumStorePurchases  \\\n",
      "0            0    4/9/2012       58       635  ...                  4   \n",
      "1            1    8/3/2014       38        11  ...                  2   \n",
      "2            0  21-08-2013       26       426  ...                 10   \n",
      "3            0   10/2/2014       26        11  ...                  4   \n",
      "4            0  19-01-2014       94       173  ...                  6   \n",
      "...        ...         ...      ...       ...  ...                ...   \n",
      "2235         1  13-06-2013       46       709  ...                  4   \n",
      "2236         1   10/6/2014       56       406  ...                  5   \n",
      "2237         0  25-01-2014       91       908  ...                 13   \n",
      "2238         1  24-01-2014        8       428  ...                 10   \n",
      "2239         1  15-10-2012       40        84  ...                  4   \n",
      "\n",
      "      NumWebVisitsMonth  AcceptedCmp3  AcceptedCmp4  AcceptedCmp5  \\\n",
      "0                     7             0             0             0   \n",
      "1                     5             0             0             0   \n",
      "2                     4             0             0             0   \n",
      "3                     6             0             0             0   \n",
      "4                     5             0             0             0   \n",
      "...                 ...           ...           ...           ...   \n",
      "2235                  5             0             0             0   \n",
      "2236                  7             0             0             0   \n",
      "2237                  6             0             1             0   \n",
      "2238                  3             0             0             0   \n",
      "2239                  7             0             0             0   \n",
      "\n",
      "      AcceptedCmp1  AcceptedCmp2  Complain  Response  Cluster  \n",
      "0                0             0         0         1        1  \n",
      "1                0             0         0         0        1  \n",
      "2                0             0         0         0        0  \n",
      "3                0             0         0         0        2  \n",
      "4                0             0         0         0        2  \n",
      "...            ...           ...       ...       ...      ...  \n",
      "2235             0             0         0         0        0  \n",
      "2236             1             0         0         0        1  \n",
      "2237             0             0         0         0        2  \n",
      "2238             0             0         0         0        1  \n",
      "2239             0             0         0         1        1  \n",
      "\n",
      "[2240 rows x 28 columns]\n"
     ]
    }
   ],
   "source": [
    "# Extract the features for clustering\n",
    "features = df[['Kidhome', 'Teenhome', 'Year_Birth']]  # Add the relevant feature columns\n",
    "\n",
    "# Apply K-means clustering\n",
    "n_clusters = 3  # Set the desired number of clusters\n",
    "kmeans = KMeans(n_clusters=n_clusters)\n",
    "kmeans.fit(features)\n",
    "\n",
    "# Get the cluster labels for each data point\n",
    "cluster_labels = kmeans.labels_\n",
    "\n",
    "# Add the cluster labels to the DataFrame\n",
    "df['Cluster'] = cluster_labels\n",
    "\n",
    "# View the resulting DataFrame with cluster labels\n",
    "print(df)"
   ]
  },
  {
   "cell_type": "markdown",
   "id": "d8463aed",
   "metadata": {
    "id": "d8463aed"
   },
   "source": [
    "# 17. Apply Agglomerative clustering and segment the data (Use Original data for clustering), and perform cluster analysis by doing bivariate analysis between the cluster label and different features and write your observations."
   ]
  },
  {
   "cell_type": "code",
   "execution_count": 32,
   "id": "725f7718",
   "metadata": {},
   "outputs": [
    {
     "name": "stdout",
     "output_type": "stream",
     "text": [
      "         ID  Year_Birth   Education Marital_Status   Income  Kidhome  \\\n",
      "0      5524        1957  Graduation         Single  58138.0        0   \n",
      "1      2174        1954  Graduation         Single  46344.0        1   \n",
      "2      4141        1965  Graduation       Together  71613.0        0   \n",
      "3      6182        1984  Graduation       Together  26646.0        1   \n",
      "4      5324        1981         PhD        Married  58293.0        1   \n",
      "...     ...         ...         ...            ...      ...      ...   \n",
      "2235  10870        1967  Graduation        Married  61223.0        0   \n",
      "2236   4001        1946         PhD       Together  64014.0        2   \n",
      "2237   7270        1981  Graduation       Divorced  56981.0        0   \n",
      "2238   8235        1956      Master       Together  69245.0        0   \n",
      "2239   9405        1954         PhD        Married  52869.0        1   \n",
      "\n",
      "      Teenhome Dt_Customer  Recency  MntWines  ...  NumCatalogPurchases  \\\n",
      "0            0    4/9/2012       58       635  ...                   10   \n",
      "1            1    8/3/2014       38        11  ...                    1   \n",
      "2            0  21-08-2013       26       426  ...                    2   \n",
      "3            0   10/2/2014       26        11  ...                    0   \n",
      "4            0  19-01-2014       94       173  ...                    3   \n",
      "...        ...         ...      ...       ...  ...                  ...   \n",
      "2235         1  13-06-2013       46       709  ...                    3   \n",
      "2236         1   10/6/2014       56       406  ...                    2   \n",
      "2237         0  25-01-2014       91       908  ...                    3   \n",
      "2238         1  24-01-2014        8       428  ...                    5   \n",
      "2239         1  15-10-2012       40        84  ...                    1   \n",
      "\n",
      "      NumStorePurchases  NumWebVisitsMonth  AcceptedCmp3  AcceptedCmp4  \\\n",
      "0                     4                  7             0             0   \n",
      "1                     2                  5             0             0   \n",
      "2                    10                  4             0             0   \n",
      "3                     4                  6             0             0   \n",
      "4                     6                  5             0             0   \n",
      "...                 ...                ...           ...           ...   \n",
      "2235                  4                  5             0             0   \n",
      "2236                  5                  7             0             0   \n",
      "2237                 13                  6             0             1   \n",
      "2238                 10                  3             0             0   \n",
      "2239                  4                  7             0             0   \n",
      "\n",
      "      AcceptedCmp5  AcceptedCmp1  AcceptedCmp2  Complain  Response  \n",
      "0                0             0             0         0         1  \n",
      "1                0             0             0         0         0  \n",
      "2                0             0             0         0         0  \n",
      "3                0             0             0         0         0  \n",
      "4                0             0             0         0         0  \n",
      "...            ...           ...           ...       ...       ...  \n",
      "2235             0             0             0         0         0  \n",
      "2236             0             1             0         0         0  \n",
      "2237             0             0             0         0         0  \n",
      "2238             0             0             0         0         0  \n",
      "2239             0             0             0         0         1  \n",
      "\n",
      "[2240 rows x 27 columns]\n"
     ]
    }
   ],
   "source": [
    "#original data\n",
    "df = pd.read_csv('marketing.csv',encoding='unicode_escape')\n",
    "print(df)"
   ]
  },
  {
   "cell_type": "code",
   "execution_count": 37,
   "id": "b5ca165b",
   "metadata": {
    "id": "b5ca165b"
   },
   "outputs": [
    {
     "data": {
      "image/png": "[encoded data removed]",
      "text/plain": [
       "<Figure size 640x480 with 1 Axes>"
      ]
     },
     "metadata": {},
     "output_type": "display_data"
    },
    {
     "data": {
      "image/png": "[encoded data removed]",
      "text/plain": [
       "<Figure size 640x480 with 1 Axes>"
      ]
     },
     "metadata": {},
     "output_type": "display_data"
    },
    {
     "data": {
      "image/png": "[encoded data removed]",
      "text/plain": [
       "<Figure size 640x480 with 1 Axes>"
      ]
     },
     "metadata": {},
     "output_type": "display_data"
    }
   ],
   "source": [
    "# Extract features for clustering\n",
    "features = df[['Kidhome', 'Teenhome', 'Year_Birth']]  # Add the relevant feature columns\n",
    "\n",
    "# Perform agglomerative clustering\n",
    "clustering = AgglomerativeClustering(n_clusters=3)  # Set the desired number of clusters\n",
    "cluster_labels = clustering.fit_predict(features)\n",
    "\n",
    "# Add cluster labels to the DataFrame\n",
    "df['Cluster'] = cluster_labels\n",
    "\n",
    "# Bivariate analysis between cluster label and different features\n",
    "sns.scatterplot(data=df, x='Kidhome', y='Teenhome', hue='Cluster')\n",
    "plt.title('Bivariate Analysis: Kidhome vs Teenhome')\n",
    "plt.show()\n",
    "\n",
    "sns.scatterplot(data=df, x='Kidhome', y='Year_Birth', hue='Cluster')\n",
    "plt.title('Bivariate Analysis: Kidhome vs Year_Birth')\n",
    "plt.show()\n",
    "\n",
    "sns.scatterplot(data=df, x='Teenhome', y='Year_Birth', hue='Cluster')\n",
    "plt.title('Bivariate Analysis: Teenhome vs Year_Birth')\n",
    "plt.show()"
   ]
  },
  {
   "cell_type": "markdown",
   "id": "797a5ecd",
   "metadata": {
    "id": "797a5ecd"
   },
   "source": [
    "### Visualization and Interpretation of results"
   ]
  },
  {
   "cell_type": "code",
   "execution_count": 43,
   "id": "d1e75760",
   "metadata": {
    "id": "d1e75760"
   },
   "outputs": [
    {
     "data": {
      "image/png": "[encoded data removed]",
      "text/plain": [
       "<Figure size 640x480 with 1 Axes>"
      ]
     },
     "metadata": {},
     "output_type": "display_data"
    },
    {
     "data": {
      "image/png": "[encoded data removed]",
      "text/plain": [
       "<Figure size 640x480 with 1 Axes>"
      ]
     },
     "metadata": {},
     "output_type": "display_data"
    },
    {
     "data": {
      "image/png": "[encoded data removed]",
      "text/plain": [
       "<Figure size 640x480 with 1 Axes>"
      ]
     },
     "metadata": {},
     "output_type": "display_data"
    }
   ],
   "source": [
    "# Scatter plot of two features with cluster coloring\n",
    "sns.scatterplot(data=df, x='Year_Birth', y='Kidhome', hue='Cluster')\n",
    "plt.title('Clustering Results:Year_Birth vs Kidhome')\n",
    "plt.show()\n",
    "\n",
    "# Box plot of a feature by cluster\n",
    "sns.boxplot(data=df, x='Cluster', y='Teenhome')\n",
    "plt.title('Clustering Results: Teenhome by Cluster')\n",
    "plt.show()\n",
    "\n",
    "# Bar plot of cluster size\n",
    "cluster_counts = df['Cluster'].value_counts().sort_index()\n",
    "cluster_counts.plot(kind='bar', xlabel='Cluster', ylabel='Count', title='Cluster Size')\n",
    "plt.show()"
   ]
  },
  {
   "cell_type": "markdown",
   "id": "36afd95b",
   "metadata": {
    "id": "36afd95b"
   },
   "source": [
    "-----\n",
    "## Happy Learning\n",
    "-----"
   ]
  }
 ],
 "metadata": {
  "colab": {
   "collapsed_sections": [
    "36afd95b"
   ],
   "name": "Unsupervised Learning - Lab session.ipynb",
   "provenance": []
  },
  "kernelspec": {
   "display_name": "Python 3 (ipykernel)",
   "language": "python",
   "name": "python3"
  },
  "language_info": {
   "codemirror_mode": {
    "name": "ipython",
    "version": 3
   },
   "file_extension": ".py",
   "mimetype": "text/x-python",
   "name": "python",
   "nbconvert_exporter": "python",
   "pygments_lexer": "ipython3",
   "version": "3.10.10"
  }
 },
 "nbformat": 4,
 "nbformat_minor": 5
}
